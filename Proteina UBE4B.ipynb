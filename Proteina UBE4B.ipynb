{
 "cells": [
  {
   "cell_type": "code",
   "execution_count": null,
   "metadata": {},
   "outputs": [],
   "source": [
    "#blast da proteina do gene UBE-4B\n",
    "from Bio.Blast import NCBIWWW\n",
    "from Bio import SeqIO\n",
    "from Bio.Blast import NCBIXML\n",
    "record2 = SeqIO.read(open(\"proteinaUBE-4B.txt\"),format=\"fasta\")\n",
    "result_handle2 = NCBIWWW.qblast(\"blastp\",\"nt\",record2.format(\"fasta\"))\n",
    "blast_records2 = NCBIXML.parse(result_handle2)\n",
    "E_VALUE_THRESH = 0.05\n",
    "for blast_record in blast_records2:\n",
    "    for alignment in blast_record.alignments:\n",
    "        for hsp in alignment.hsps:\n",
    "            if hsp.expect < E_VALUE_THRESH:\n",
    "                print (\"****Alignment****\")\n",
    "                print ('sequence:', alignment.title)\n",
    "                print ('length:', alignment.length)\n",
    "                print ('e value:', hsp.expect)\n",
    "                print (hsp.query[0:75] + \"...\" )\n",
    "                print( hsp.match[0:75] + \"...\" )\n",
    "                print( hsp.sbjct[0:75] + \"...\" )"
   ]
  },
  {
   "cell_type": "code",
   "execution_count": null,
   "metadata": {},
   "outputs": [],
   "source": [
    "#alinhamento multiplo do proteina do gene UBE-4B com outras proteinas usando clustalw\n",
    "# é necessario fazer primeiro o blast para criar o ficheiro com as proteinas semelhantes\n",
    "import os\n",
    "from Bio.Align.Applications import ClustalwCommandline\n",
    "clustalw_exe = r\"C:\\Program Files\\new clustal\\clustalw2.exe\"\n",
    "clustalw_cline = ClustalwCommandline(clustalw_exe, infile=\"alinhamento_UBE-4B_2.fasta\")\n",
    "\n",
    "\n",
    "from Bio import AlignIO\n",
    "align = AlignIO.read(\"alinhamento2.aln\",\"clustal\")\n",
    "print(align)"
   ]
  },
  {
   "cell_type": "code",
   "execution_count": null,
   "metadata": {},
   "outputs": [],
   "source": []
  },
  {
   "cell_type": "code",
   "execution_count": null,
   "metadata": {},
   "outputs": [],
   "source": []
  }
 ],
 "metadata": {
  "kernelspec": {
   "display_name": "Python 3",
   "language": "python",
   "name": "python3"
  },
  "language_info": {
   "codemirror_mode": {
    "name": "ipython",
    "version": 3
   },
   "file_extension": ".py",
   "mimetype": "text/x-python",
   "name": "python",
   "nbconvert_exporter": "python",
   "pygments_lexer": "ipython3",
   "version": "3.7.3"
  }
 },
 "nbformat": 4,
 "nbformat_minor": 2
}
