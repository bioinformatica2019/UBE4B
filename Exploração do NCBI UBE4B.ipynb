{
 "cells": [
  {
   "cell_type": "code",
   "execution_count": null,
   "metadata": {},
   "outputs": [],
   "source": [
    "\"\"\"Em primeiro lugar, fizemos download do ficheiro genbank do Fanfc, ATRAVÉS DO SEU id, NC_000001.11\"\"\""
   ]
  },
  {
   "cell_type": "code",
   "execution_count": 1,
   "metadata": {},
   "outputs": [
    {
     "name": "stdout",
     "output_type": "stream",
     "text": [
      "LOCUS       NC_000001          248956422 bp    DNA     linear   CON 09-SEP-2019\n",
      "DEFINITION  Homo sapiens chromosome 1, GRCh38.p13 Primary Assembly.\n",
      "ACCESSION   NC_000001\n",
      "VERSION     NC_000001.11\n",
      "DBLINK      BioProject: PRJNA168\n",
      "            Assembly: GCF_000001405.39\n",
      "KEYWORDS    RefSeq.\n",
      "SOURCE      Homo sapiens (human)\n",
      "  ORGANISM  Homo sapiens\n",
      "            Eukaryota; Metazoa; Chordata; Craniata; Vertebrata; Euteleostomi;\n",
      "            Mammalia; Eutheria; Euarchontoglires; Primates; Haplorrhini;\n",
      "            Catarrhini; Hominidae; Homo.\n",
      "REFERENCE   1  (bases 1 to 248956422)\n",
      "  AUTHORS   Gregory,S.G., Barlow,K.F., McLay,K.E., Kaul,R., Swarbreck,D.,\n",
      "            Dunham,A., Scott,C.E., Howe,K.L., Woodfine,K., Spencer,C.C.,\n",
      "            Jones,M.C., Gillson,C., Searle,S., Zhou,Y., Kokocinski,F.,\n",
      "            McDonald,L., Evans,R., Phillips,K., Atkinson,A., Cooper,R.,\n",
      "            Jones,C., Hall,R.E., Andrews,T.D., Lloyd,C., Ainscough,R.,\n",
      "            Almeida,J.P., Ambrose,K.D., Anderson,F., Andrew,R.W., Ashwell,R.I.,\n",
      "            Aubin,K., Babbage,A.K., Bagguley,C.L., Bailey,J., Beasley,H.,\n",
      "            Bethel,G., Bird,C.P., Bray-Allen,S., Brown,J.Y., Brown,A.J.,\n",
      "            Buckley,D., Burton,J., Bye,J., Carder,C., Chapman,J.C., Clark,S.Y.,\n",
      "            Clarke,G., Clee,C., Cobley,V., Collier,R.E., Corby,N.,\n",
      "            Coville,G.J., Davies,J., Deadman,R., Dunn,M., Earthrowl,M.,\n",
      "            Ellington,A.G., Errington,H., Frankish,A., Frankland,J., French,L.,\n",
      "            Garner,P., Garnett,J., Gay,L., Ghori,M.R., Gibson,R., Gilby,L.M.,\n",
      "            Gillett,W., Glithero,R.J., Grafham,D.V., Griffiths,C.,\n",
      "            Griffiths-Jones,S., Grocock,R., Hammond,S., Harrison,E.S., Hart,E.,\n",
      "            Haugen,E., Heath,P.D., Holmes,S., Holt,K., Howden,P.J., Hunt,A.R.,\n",
      "            Hunt,S.E., Hunter,G., Isherwood,J., James,R., Johnson,C.,\n",
      "            Johnson,D., Joy,A., Kay,M., Kershaw,J.K., Kibukawa,M.,\n",
      "            Kimberley,A.M., King,A., Knights,A.J., Lad,H., Laird,G., Lawlor,S.,\n",
      "            Leongamornlert,D.A., Lloyd,D.M., Loveland,J., Lovell,J., Lush,M.J.,\n",
      "            Lyne,R., Martin,S., Mashreghi-Mohammadi,M., Matthews,L.,\n",
      "            Matthews,N.S., McLaren,S., Milne,S., Mistry,S., Moore,M.J.,\n",
      "            Nickerson,T., O'Dell,C.N., Oliver,K., Palmeiri,A., Palmer,S.A.,\n",
      "            Parker,A., Patel,D., Pearce,A.V., Peck,A.I., Pelan,S., Phelps,K.,\n",
      "            Phillimore,B.J., Plumb,R., Rajan,J., Raymond,C., Rouse,G.,\n",
      "            Saenphimmachak,C., Sehra,H.K., Sheridan,E., Shownkeen,R., Sims,S.,\n",
      "            Skuce,C.D., Smith,M., Steward,C., Subramanian,S., Sycamore,N.,\n",
      "            Tracey,A., Tromans,A., Van Helmond,Z., Wall,M., Wallis,J.M.,\n",
      "            White,S., Whitehead,S.L., Wilkinson,J.E., Willey,D.L., Williams,H.,\n",
      "            Wilming,L., Wray,P.W., Wu,Z., Coulson,A., Vaudin,M., Sulston,J.E.,\n",
      "            Durbin,R., Hubbard,T., Wooster,R., Dunham,I., Carter,N.P.,\n",
      "            McVean,G., Ross,M.T., Harrow,J., Olson,M.V., Beck,S., Rogers,J.,\n",
      "            Bentley,D.R., Banerjee,R., Bryant,S.P., Burford,D.C., Burrill,W.D.,\n",
      "            Clegg,S.M., Dhami,P., Dovey,O., Faulkner,L.M., Gribble,S.M.,\n",
      "            Langford,C.F., Pandian,R.D., Porter,K.M. and Prigmore,E.\n",
      "  TITLE     The DNA sequence and biological annotation of human chromosome 1\n",
      "  JOURNAL   Nature 441 (7091), 315-321 (2006)\n",
      "   PUBMED   16710414\n",
      "  REMARK    Erratum:[Nature. 2006 Oct 26;443(7114):1013. Banerjee, R [added];\n",
      "            Bryant, SP [added]; Burford, DC [added]; Burrill, WDH [added];\n",
      "            Clegg, SM [added]; Dhami, P [added]; Dovey, O [added]; Faulkner, LM\n",
      "            [added]; Gribble, SM [added]; Langford, CF [added]; Pandian, RD\n",
      "            [added]; Porter, KM [added]; Prigmore, E [added]]\n",
      "REFERENCE   2  (bases 1 to 248956422)\n",
      "  CONSRTM   International Human Genome Sequencing Consortium\n",
      "  TITLE     Finishing the euchromatic sequence of the human genome\n",
      "  JOURNAL   Nature 431 (7011), 931-945 (2004)\n",
      "   PUBMED   15496913\n",
      "REFERENCE   3  (bases 1 to 248956422)\n",
      "  AUTHORS   Lander,E.S., Linton,L.M., Birren,B., Nusbaum,C., Zody,M.C.,\n",
      "            Baldwin,J., Devon,K., Dewar,K., Doyle,M., FitzHugh,W., Funke,R.,\n",
      "            Gage,D., Harris,K., Heaford,A., Howland,J., Kann,L., Lehoczky,J.,\n",
      "            LeVine,R., McEwan,P., McKernan,K., Meldrim,J., Mesirov,J.P.,\n",
      "            Miranda,C., Morris,W., Naylor,J., Raymond,C., Rosetti,M.,\n",
      "            Santos,R., Sheridan,A., Sougnez,C., Stange-Thomann,N.,\n",
      "            Stojanovic,N., Subramanian,A., Wyman,D., Rogers,J., Sulston,J.,\n",
      "            Ainscough,R., Beck,S., Bentley,D., Burton,J., Clee,C., Carter,N.,\n",
      "            Coulson,A., Deadman,R., Deloukas,P., Dunham,A., Dunham,I.,\n",
      "            Durbin,R., French,L., Grafham,D., Gregory,S., Hubbard,T.,\n",
      "            Humphray,S., Hunt,A., Jones,M., Lloyd,C., McMurray,A., Matthews,L.,\n",
      "            Mercer,S., Milne,S., Mullikin,J.C., Mungall,A., Plumb,R., Ross,M.,\n",
      "            Shownkeen,R., Sims,S., Waterston,R.H., Wilson,R.K., Hillier,L.W.,\n",
      "            McPherson,J.D., Marra,M.A., Mardis,E.R., Fulton,L.A.,\n",
      "            Chinwalla,A.T., Pepin,K.H., Gish,W.R., Chissoe,S.L., Wendl,M.C.,\n",
      "            Delehaunty,K.D., Miner,T.L., Delehaunty,A., Kramer,J.B., Cook,L.L.,\n",
      "            Fulton,R.S., Johnson,D.L., Minx,P.J., Clifton,S.W., Hawkins,T.,\n",
      "            Branscomb,E., Predki,P., Richardson,P., Wenning,S., Slezak,T.,\n",
      "            Doggett,N., Cheng,J.F., Olsen,A., Lucas,S., Elkin,C.,\n",
      "            Uberbacher,E., Frazier,M., Gibbs,R.A., Muzny,D.M., Scherer,S.E.,\n",
      "            Bouck,J.B., Sodergren,E.J., Worley,K.C., Rives,C.M., Gorrell,J.H.,\n",
      "            Metzker,M.L., Naylor,S.L., Kucherlapati,R.S., Nelson,D.L.,\n",
      "            Weinstock,G.M., Sakaki,Y., Fujiyama,A., Hattori,M., Yada,T.,\n",
      "            Toyoda,A., Itoh,T., Kawagoe,C., Watanabe,H., Totoki,Y., Taylor,T.,\n",
      "            Weissenbach,J., Heilig,R., Saurin,W., Artiguenave,F., Brottier,P.,\n",
      "            Bruls,T., Pelletier,E., Robert,C., Wincker,P., Smith,D.R.,\n",
      "            Doucette-Stamm,L., Rubenfield,M., Weinstock,K., Lee,H.M.,\n",
      "            Dubois,J., Rosenthal,A., Platzer,M., Nyakatura,G., Taudien,S.,\n",
      "            Rump,A., Yang,H., Yu,J., Wang,J., Huang,G., Gu,J., Hood,L.,\n",
      "            Rowen,L., Madan,A., Qin,S., Davis,R.W., Federspiel,N.A.,\n",
      "            Abola,A.P., Proctor,M.J., Myers,R.M., Schmutz,J., Dickson,M.,\n",
      "            Grimwood,J., Cox,D.R., Olson,M.V., Kaul,R., Raymond,C., Shimizu,N.,\n",
      "            Kawasaki,K., Minoshima,S., Evans,G.A., Athanasiou,M., Schultz,R.,\n",
      "            Roe,B.A., Chen,F., Pan,H., Ramser,J., Lehrach,H., Reinhardt,R.,\n",
      "            McCombie,W.R., de la Bastide,M., Dedhia,N., Blocker,H.,\n",
      "            Hornischer,K., Nordsiek,G., Agarwala,R., Aravind,L., Bailey,J.A.,\n",
      "            Bateman,A., Batzoglou,S., Birney,E., Bork,P., Brown,D.G.,\n",
      "            Burge,C.B., Cerutti,L., Chen,H.C., Church,D., Clamp,M.,\n",
      "            Copley,R.R., Doerks,T., Eddy,S.R., Eichler,E.E., Furey,T.S.,\n",
      "            Galagan,J., Gilbert,J.G., Harmon,C., Hayashizaki,Y., Haussler,D.,\n",
      "            Hermjakob,H., Hokamp,K., Jang,W., Johnson,L.S., Jones,T.A.,\n",
      "            Kasif,S., Kaspryzk,A., Kennedy,S., Kent,W.J., Kitts,P.,\n",
      "            Koonin,E.V., Korf,I., Kulp,D., Lancet,D., Lowe,T.M., McLysaght,A.,\n",
      "            Mikkelsen,T., Moran,J.V., Mulder,N., Pollara,V.J., Ponting,C.P.,\n",
      "            Schuler,G., Schultz,J., Slater,G., Smit,A.F., Stupka,E.,\n",
      "            Szustakowski,J., Thierry-Mieg,D., Thierry-Mieg,J., Wagner,L.,\n",
      "            Wallis,J., Wheeler,R., Williams,A., Wolf,Y.I., Wolfe,K.H.,\n",
      "            Yang,S.P., Yeh,R.F., Collins,F., Guyer,M.S., Peterson,J.,\n",
      "            Felsenfeld,A., Wetterstrand,K.A., Patrinos,A., Morgan,M.J., de\n",
      "            Jong,P., Catanese,J.J., Osoegawa,K., Shizuya,H., Choi,S. and\n",
      "            Chen,Y.J.\n",
      "  CONSRTM   International Human Genome Sequencing Consortium\n",
      "  TITLE     Initial sequencing and analysis of the human genome\n",
      "  JOURNAL   Nature 409 (6822), 860-921 (2001)\n",
      "   PUBMED   11237011\n",
      "  REMARK    Erratum:[Nature 2001 Aug 2;412(6846):565]\n",
      "COMMENT     REFSEQ INFORMATION: The reference sequence is identical to\n",
      "            CM000663.2.\n",
      "            On Feb 3, 2014 this sequence version replaced NC_000001.10.\n",
      "            Assembly Name: GRCh38.p13 Primary Assembly\n",
      "            The DNA sequence is composed of genomic sequence, primarily\n",
      "            finished clones that were sequenced as part of the Human Genome\n",
      "            Project. PCR products and WGS shotgun sequence have been added\n",
      "            where necessary to fill gaps or correct errors. All such additions\n",
      "            are manually curated by GRC staff. For more information see:\n",
      "            https://genomereference.org.\n",
      "            \n",
      "            ##Genome-Annotation-Data-START##\n",
      "            Annotation Provider         :: NCBI\n",
      "            Annotation Status           :: Updated annotation\n",
      "            Annotation Name             :: Homo sapiens Updated Annotation\n",
      "                                           Release 109.20190905\n",
      "            Annotation Version          :: 109.20190905\n",
      "            Annotation Pipeline         :: NCBI eukaryotic genome annotation\n",
      "                                           pipeline\n",
      "            Annotation Software Version :: 8.2\n",
      "            Annotation Method           :: Best-placed RefSeq; propagated\n",
      "                                           RefSeq model\n",
      "            Features Annotated          :: Gene; mRNA; CDS; ncRNA\n",
      "            ##Genome-Annotation-Data-END##\n",
      "FEATURES             Location/Qualifiers\n",
      "     source          1..248956422\n",
      "                     /organism=\"Homo sapiens\"\n",
      "                     /mol_type=\"genomic DNA\"\n",
      "                     /db_xref=\"taxon:9606\"\n",
      "                     /chromosome=\"1\"\n",
      "CONTIG      join(gap(10000),NT_077402.3:1..197666,gap(50000),\n",
      "            NT_187170.1:1..40302,gap(50000),NT_077912.2:1..188020,gap(50000),\n",
      "            NT_032977.10:1..121390471,gap(50000),NT_187171.1:1..198076,\n",
      "            gap(100),NT_187172.1:1..278512,gap(100),NT_187173.1:1..2282185,\n",
      "            gap(100),NT_187174.1:1..63597,gap(100),NT_187175.1:1..83495,\n",
      "            gap(100),NT_187176.1:1..251763,gap(18000000),\n",
      "            NT_004487.20:1..80374348,gap(50000),NT_167186.2:1..25337487,\n",
      "            gap(10000))\n",
      "//\n",
      "\n",
      "\n"
     ]
    }
   ],
   "source": [
    "from Bio import Entrez\n",
    "Entrez.email = \"helenaneto14@gmail.com\"\n",
    "handle = Entrez.efetch (db=\"nucleotide\" , id= \"NC_000001.11\", rettype= \"gb\", retmode=\"text\")\n",
    "print (handle.read())"
   ]
  },
  {
   "cell_type": "code",
   "execution_count": 2,
   "metadata": {},
   "outputs": [
    {
     "name": "stdout",
     "output_type": "stream",
     "text": [
      "NC_000001.11\n",
      "NC_000001\n",
      "Homo sapiens chromosome 1, GRCh38.p13 Primary Assembly\n"
     ]
    }
   ],
   "source": [
    "from Bio import SeqIO\n",
    "from Bio import Entrez\n",
    "Entrez.email = \"helenaneto14@gmail.com\"\n",
    "handle = Entrez.efetch (db=\"nucleotide\" , id= \"NC_000001.11\", rettype= \"gb\", retmode=\"text\")\n",
    "record = SeqIO.read(handle, \"genbank\")\n",
    "handle.close()\n",
    "print(record.id)\n",
    "print(record.name)\n",
    "print(record.description)"
   ]
  },
  {
   "cell_type": "code",
   "execution_count": null,
   "metadata": {},
   "outputs": [],
   "source": [
    "\"\"\"Fazer parsing ao documento, para guardar linhas importantes do ficheiro em modo xml, em variáveis.\"\"\""
   ]
  },
  {
   "cell_type": "code",
   "execution_count": 3,
   "metadata": {},
   "outputs": [
    {
     "name": "stdout",
     "output_type": "stream",
     "text": [
      "definição: Homo sapiens chromosome 1, GRCh38.p13 Primary Assembly\n",
      "source: Homo sapiens (human)\n",
      "locus: NC_000001\n",
      "tamanho da sequencia: 248956422\n",
      "taxonomia: Eukaryota; Metazoa; Chordata; Craniata; Vertebrata; Euteleostomi; Mammalia; Eutheria; Euarchontoglires; Primates; Haplorrhini; Catarrhini; Hominidae; Homo\n"
     ]
    }
   ],
   "source": [
    "handle = Entrez.efetch (db=\"nucleotide\" , id= \"NC_000001.11\",  retmode=\"xml\")\n",
    "record = Entrez.read(handle)\n",
    "handle.close()\n",
    "definicao = record[0][\"GBSeq_definition\"]\n",
    "source = record[0][\"GBSeq_source\"]\n",
    "locus = record [0][\"GBSeq_locus\"]\n",
    "tamanho = record[0][\"GBSeq_length\"]\n",
    "taxonomia = record [0]['GBSeq_taxonomy']\n",
    "\n",
    "print(\"definição:\", definicao)\n",
    "print(\"source:\", source)\n",
    "print(\"locus:\", locus)\n",
    "print (\"tamanho da sequencia:\", tamanho)\n",
    "print(\"taxonomia:\", taxonomia)\n",
    "\n"
   ]
  },
  {
   "cell_type": "code",
   "execution_count": null,
   "metadata": {},
   "outputs": [],
   "source": [
    "\"\"\" Fazer pesquisa automatizada no Pubmed (NCBI) sobre o gene, e o cancro relacionado- cancro da mama\"\"\""
   ]
  },
  {
   "cell_type": "code",
   "execution_count": 4,
   "metadata": {},
   "outputs": [
    {
     "name": "stdout",
     "output_type": "stream",
     "text": [
      "numero de artigps no pubmed sobre cancro da mama, relacionados com o gene UBE4B: 2\n"
     ]
    }
   ],
   "source": [
    "handle= Entrez.egquery(term=\"Breast Cancer UBE4B\")\n",
    "record= Entrez.read(handle)\n",
    "for row in record[\"eGQueryResult\"]:\n",
    "    if row[\"DbName\"]==\"pubmed\":\n",
    "        numero_artigos = row[\"Count\"]\n",
    "        print(\"numero de artigps no pubmed sobre cancro da mama, relacionados com o gene UBE4B:\", numero_artigos)"
   ]
  },
  {
   "cell_type": "code",
   "execution_count": null,
   "metadata": {},
   "outputs": [],
   "source": [
    "\"\"\"Agora, vamos buscar os IDs dos 2 artigos\"\"\""
   ]
  },
  {
   "cell_type": "code",
   "execution_count": 6,
   "metadata": {},
   "outputs": [
    {
     "name": "stdout",
     "output_type": "stream",
     "text": [
      "['25875638', '24587254']\n"
     ]
    }
   ],
   "source": [
    "handle= Entrez.esearch(db=\"pubmed\", term=\"Breast Cancer UBE4B\", retmax= 3 )\n",
    "record= Entrez.read(handle)\n",
    "handle.close()\n",
    "idlist =record[\"IdList\"]\n",
    "print(idlist)"
   ]
  },
  {
   "cell_type": "code",
   "execution_count": null,
   "metadata": {},
   "outputs": [],
   "source": [
    "\"\"\"Com os Ids dos artigos, vamos agora extrair a informacao\"\"\""
   ]
  },
  {
   "cell_type": "code",
   "execution_count": 7,
   "metadata": {},
   "outputs": [
    {
     "name": "stdout",
     "output_type": "stream",
     "text": [
      "título: Correction: regulation of p53 level by UBE4B in breast cancer. \n",
      "autor: ? \n",
      "fonte: PLoS One. 2015 Apr 13;10(4):e0125136. doi: 10.1371/journal.pone.0125136. eCollection 2015. \n",
      "data: 2015 \n",
      "abstrato: ? \n",
      "Palavras chave: ? \n",
      "\n",
      "título: Regulation of p53 level by UBE4B in breast cancer. \n",
      "autor: ['Zhang Y', 'Lv Y', 'Zhang Y', 'Gao H'] \n",
      "fonte: PLoS One. 2014 Feb 26;9(2):e90154. doi: 10.1371/journal.pone.0090154. eCollection 2014. \n",
      "data: 2014 \n",
      "abstrato: p53 is possibly the most important mammalian tumor suppressor and it is mutated or lost in more than half of all human cancers. The stability of p53 is primarily determined by the RING domain E3 ubiquitin ligase Hdm2, which targets p53 for proteasomal degradation, restraining the potent activity of p53 and enabling cell survival and proliferation. UBE4B has been shown to physically interact with p53 and Hdm2 and to negatively regulate p53 stability and function. However, no one has determined whether UBE4B promotes p53 degradation in breast cancer. In this study, UBE4B promoted the degradation and ubiquitination of p53 to inhibit the apoptosis of cancer cells and promote tumorigenesis. Our results indicate that UBE4B regulates p53 in breast cancer and could be a viable target for developing new therapeutic strategies for breast cancer treatment. \n",
      "Palavras chave: ? \n",
      "\n"
     ]
    }
   ],
   "source": [
    "from Bio import Medline\n",
    "handle= Entrez.efetch(db= \"pubmed\", id= idlist, rettype=\"medline\", retmode= \"text\")\n",
    "records= Medline.parse(handle)\n",
    "records = list(records)\n",
    "for record in records:\n",
    "    print(\"título:\", record.get(\"TI\", \"?\"), \"\\nautor:\",record.get(\"AU\", \"?\"), \"\\nfonte:\", record.get(\"SO\", \"?\"), \"\\ndata:\",record.get(\"DP\", \"?\"), \"\\nabstrato:\", record.get(\"AB\", \"?\"), \"\\nPalavras chave:\", record.get(\"OT\", \"?\"), \"\\n\")\n",
    "    "
   ]
  },
  {
   "cell_type": "code",
   "execution_count": null,
   "metadata": {},
   "outputs": [],
   "source": []
  }
 ],
 "metadata": {
  "kernelspec": {
   "display_name": "Python 3",
   "language": "python",
   "name": "python3"
  },
  "language_info": {
   "codemirror_mode": {
    "name": "ipython",
    "version": 3
   },
   "file_extension": ".py",
   "mimetype": "text/x-python",
   "name": "python",
   "nbconvert_exporter": "python",
   "pygments_lexer": "ipython3",
   "version": "3.7.3"
  }
 },
 "nbformat": 4,
 "nbformat_minor": 2
}
